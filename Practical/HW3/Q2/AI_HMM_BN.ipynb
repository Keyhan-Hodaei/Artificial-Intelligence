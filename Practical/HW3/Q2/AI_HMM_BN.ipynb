{
 "nbformat": 4,
 "nbformat_minor": 0,
 "metadata": {
  "colab": {
   "provenance": [],
   "authorship_tag": "ABX9TyPRfMk8suKBOCWfeOJUd3WF"
  },
  "kernelspec": {
   "name": "python3",
   "language": "python",
   "display_name": "Python 3 (ipykernel)"
  },
  "language_info": {
   "name": "python"
  }
 },
 "cells": [
  {
   "cell_type": "markdown",
   "source": [
    "<img src='http://www-scf.usc.edu/~ghasemig/images/sharif.png' alt=\"SUT logo\" width=500 height=300 align=center class=\"saturate\" >\n",
    "\n",
    "<br>\n",
    "<font>\n",
    "<div dir=ltr align=center>\n",
    "<font color=0F5298 size=7>\n",
    "    Artificial Intelligence <br>\n",
    "<font color=2565AE size=5>\n",
    "    Computer Engineering Department <br>\n",
    "    Spring 2024<br>\n",
    "<font color=3C99D size=5>\n",
    "    Practical Assignment 3 - Heart Disease Prediction using Hidden Markov Models  <br>\n",
    "<font color=696880 size=4>\n",
    "Omid Daliran\n"
   ],
   "metadata": {
    "id": "lGYYFKeJ1GMj"
   }
  },
  {
   "cell_type": "markdown",
   "source": [
    "# Personal Data"
   ],
   "metadata": {
    "id": "mKqvyyp3TIzP"
   }
  },
  {
   "cell_type": "code",
   "source": [
    "# Set your student number and name\n",
    "student_number = '401106696'\n",
    "Name = 'Keyhan'\n",
    "Last_Name = 'Hodaei'"
   ],
   "metadata": {
    "id": "0geUs2cxytvu",
    "ExecuteTime": {
     "end_time": "2024-05-14T19:39:01.857138300Z",
     "start_time": "2024-05-14T19:39:01.843631900Z"
    }
   },
   "execution_count": 17,
   "outputs": []
  },
  {
   "cell_type": "markdown",
   "source": [
    "# Libraries"
   ],
   "metadata": {
    "id": "7t1ZoXu-0BHq"
   }
  },
  {
   "cell_type": "code",
   "source": [
    "import csv\n",
    "import numpy as np\n",
    "import pandas as pd"
   ],
   "metadata": {
    "id": "ROZMme5FrlVL",
    "ExecuteTime": {
     "end_time": "2024-05-14T19:39:01.877746200Z",
     "start_time": "2024-05-14T19:39:01.858142900Z"
    }
   },
   "execution_count": 18,
   "outputs": []
  },
  {
   "cell_type": "markdown",
   "source": [
    "# Q2: Heart Disease Prediction using Hidden Markov  (100 Points)"
   ],
   "metadata": {
    "id": "22cAp2xx0asS"
   }
  },
  {
   "cell_type": "markdown",
   "source": [
    "# Introduction\n",
    "\n",
    "\n",
    "In this notebook, we explore the application of Hidden Markov Models (HMM) in predicting heart disease risk based on DNA sequences. Heart disease is a prevalent and life-threatening condition, and early detection is crucial for effective management. By leveraging HMM, we aim to identify regions within DNA sequences associated with high and low GC content, which have been linked to heart disease susceptibility.\n"
   ],
   "metadata": {
    "id": "HCCMQjKH1sWi"
   }
  },
  {
   "cell_type": "markdown",
   "source": [
    "# Hidden Markov Models (HMM) (40 points)\n",
    "\n",
    "Hidden Markov Models are probabilistic models widely used in sequential data analysis, particularly in bioinformatics. They are characterized by states, transitions between states, and emission probabilities associated with each state. In our context, the states represent the underlying biological characteristics of DNA sequences, while the emission probabilities signify the likelihood of observing specific nucleotides given each state.\n",
    "\n",
    "To facilitate our heart disease classification, we'll implement a custom Hidden Markov Model (HMM) class in Python. This class will include the Viterbi and Forward algorithms."
   ],
   "metadata": {
    "id": "tsYpNuyH4Cu-"
   }
  },
  {
   "cell_type": "code",
   "source": [
    "class HMM:\n",
    "    def __init__(self, states: list, emissions: list, start_probabilities: list, transition_probabilities: list):\n",
    "        self.states = states\n",
    "        self.state_labels = {i: state for i, state in enumerate(states)}\n",
    "        self.emissions = emissions\n",
    "        self.start_probabilities = start_probabilities\n",
    "        self.transition_probabilities = transition_probabilities\n",
    "\n",
    "    def viterbi(self, sequence: str) -> tuple:\n",
    "        '''\n",
    "        This method performs the Viterbi algorithm within the Hidden Markov Model (HMM) class to predict the most likely sequence of hidden states given an observed sequence, such as a DNA sequence.\n",
    "\n",
    "        Parameters:\n",
    "        - sequence: The observed sequence for which the most likely hidden state sequence is to be predicted.\n",
    "\n",
    "        Returns:\n",
    "        - path: The predicted sequence of hidden states corresponding to the input sequence.\n",
    "        - max_probability: The maximum probability associated with the predicted path.\n",
    "        '''\n",
    "        # TODO\n",
    "        n = len(sequence)\n",
    "        m = len(self.states)\n",
    "        dp = [[0 for i in range(m)] for i in range(n)] # dp[i][j] == the max probability to go through a path in time `i` and to state 'j' \n",
    "        parent = [[-1 for i in range(m)] for i in range(n)]\n",
    "        \n",
    "        for state in range(len(self.states)):\n",
    "            dp[0][state] = self.start_probabilities[state] * self.emissions[state][sequence[0]]\n",
    "            parent[0][state] = -1\n",
    "            \n",
    "        for i in range(1, n):\n",
    "            for state in range(len(self.states)):\n",
    "                max_x = (0 , -1)\n",
    "                for _state in range(len(self.states)):\n",
    "                    max_x = max(max_x, (self.transition_probabilities[_state][state] * dp[i-1][_state] , _state))\n",
    "                dp[i][state] = self.emissions[state][sequence[i]] * max_x[0]\n",
    "                parent[i][state] = max_x[1]\n",
    "        \n",
    "        max_probability = 0\n",
    "        final_m = None\n",
    "        \n",
    "        for i in range(m):\n",
    "            if dp[n-1][i] > max_probability:\n",
    "                max_probability = dp[n-1][i]\n",
    "                final_m = i\n",
    "        \n",
    "        path = str(self.states[final_m])\n",
    "        state = final_m\n",
    "        \n",
    "        for i in range(n-1,0, -1):\n",
    "            state = parent[i][state]\n",
    "            path = self.states[state] + path\n",
    "\n",
    "        return path, max_probability\n",
    "\n",
    "    def forward_algorithm(self, sequence: str) -> list:\n",
    "        '''\n",
    "        This method performs the Forward algorithm within the Hidden Markov Model (HMM) class to calculate the probability of observing a given sequence under the model.\n",
    "\n",
    "        Parameters:\n",
    "        - sequence: The observed sequence for which the likelihood is to be calculated.\n",
    "\n",
    "        Returns:\n",
    "        - probability_last_states: The probabilities of the final states after observing the entire sequence.\n",
    "        '''\n",
    "        # TODO\n",
    "        n = len(sequence)\n",
    "        m = len(self.states)\n",
    "        dp = [[0 for i in range(m)] for i in range(n)]\n",
    "        \n",
    "        totsum = 0\n",
    "        for state in range(m):\n",
    "            dp[0][state] = self.start_probabilities[state] * self.emissions[state][sequence[0]]\n",
    "            totsum += dp[0][state]\n",
    "        for state in range(m):\n",
    "            dp[0][state] /= totsum\n",
    "        \n",
    "            \n",
    "        for i in range(1, n):\n",
    "            totsum = 0\n",
    "            for state in range(m):\n",
    "                _sum = 0\n",
    "                for _state in range(m):\n",
    "                    _sum += self.transition_probabilities[_state][state] * dp[i-1][_state]\n",
    "                dp[i][state] = self.emissions[state][sequence[i]] * _sum\n",
    "                totsum += dp[i][state]\n",
    "            for state in range(m):\n",
    "                dp[i][state] /= totsum\n",
    "    \n",
    "        return dp[n - 1]\n",
    "\n"
   ],
   "metadata": {
    "id": "UHTspQ58UDSs",
    "ExecuteTime": {
     "end_time": "2024-05-14T19:39:01.888745300Z",
     "start_time": "2024-05-14T19:39:01.873253200Z"
    }
   },
   "execution_count": 19,
   "outputs": []
  },
  {
   "cell_type": "markdown",
   "source": [
    "GC content, the proportion of guanine (G) and cytosine (C) nucleotides in a DNA sequence, is a fundamental genomic feature. Variations in GC content have been implicated in various biological processes, including gene regulation and disease susceptibility. Specifically, high GC content (H) regions are associated with increased gene expression and potential regulatory elements, while low GC content (L) regions may indicate structural elements or regions prone to mutations. The transition and emission and start probabilities are as shown in the image below:\n",
    "\n",
    "![Probabilities](Probabilities.png)"
   ],
   "metadata": {
    "id": "9isx2p9kFT4o"
   }
  },
  {
   "cell_type": "code",
   "source": [
    "# TODO: Complete and run this code to check your implementation\n",
    "\n",
    "states = ['H', 'L']\n",
    "emissions = [{'A': 0.2, 'C': 0.3, 'G': 0.3, 'T': 0.2}, {'A': 0.3, 'C': 0.2, 'G': 0.2, 'T': 0.3}]\n",
    "start_probabilities = [0.5, 0.5]\n",
    "transition_probabilities = [[0.5, 0.5], [0.4, 0.6]]\n",
    "\n",
    "hmm = HMM(states, emissions, start_probabilities, transition_probabilities)\n",
    "\n",
    "# Example DNA sequence\n",
    "sequence = \"ATGCGCGATCGATCGAATCGCGT\"    \n",
    "\n",
    "# Viterbi algorithm\n",
    "path, max_probability = hmm.viterbi(sequence)\n",
    "print(\"Viterbi Path:\", path)\n",
    "print(\"Max Probability (Viterbi):\", max_probability)\n",
    "\n",
    "# Forward algorithm\n",
    "probability = hmm.forward_algorithm(sequence)\n",
    "print(\"Probability (Forward Algorithm):\", probability)"
   ],
   "metadata": {
    "colab": {
     "base_uri": "https://localhost:8080/"
    },
    "id": "9CcWsAvQXjJ_",
    "executionInfo": {
     "status": "ok",
     "timestamp": 1710794899166,
     "user_tz": -210,
     "elapsed": 375,
     "user": {
      "displayName": "Omid Daliran",
      "userId": "14293939971066168269"
     }
    },
    "outputId": "bd0099ba-4013-4a4b-a0d6-f2ce42b136f7",
    "ExecuteTime": {
     "end_time": "2024-05-14T19:39:01.904757400Z",
     "start_time": "2024-05-14T19:39:01.888745300Z"
    }
   },
   "execution_count": 20,
   "outputs": [
    {
     "name": "stdout",
     "output_type": "stream",
     "text": [
      "Viterbi Path: LLHHHHHLLHHLLHHLLLHHHHL\n",
      "Max Probability (Viterbi): 1.1438396227480495e-19\n",
      "Probability (Forward Algorithm): [0.35818008853498684, 0.6418199114650132]\n"
     ]
    }
   ]
  },
  {
   "cell_type": "markdown",
   "source": [
    "# Calculating Probabilities for Blood Type, Height, and Weight (10 points)\n",
    "\n",
    "After obtaining the sequence of H and L regions from the DNA using the Viterbi algorithm, we proceed to calculate the probabilities for other attributes such as blood type, height, weight, and the presence or absence of DCM (DCM, or Dilated Cardiomyopathy, is a heart condition characterized by the enlargement of the heart's left ventricle. It can lead to heart failure if not properly managed.) using the Forward algorithm. In this step, we aim to leverage the Hidden Markov Model (HMM) to infer these attributes based on the observed GC content sequence.\n",
    "\n",
    "\n",
    "We will use the functionality of the Forward algorithm to compute the probabilities associated with each possible state after observing the sequence.\n",
    "\n",
    "Attributes and Possible States:\n",
    "* Blood Type: O, A, B, AB\n",
    "* Height: 160 cm, 170 cm, 180 cm, 190 cm\n",
    "* Weight: 50 kg, 65 kg, 80 kg, 95 kg\n",
    "* DCM: Y (indicating presence) or N (indicating absence)\n"
   ],
   "metadata": {
    "id": "RE8zgAe07NnC"
   }
  },
  {
   "cell_type": "code",
   "source": [
    "def probabilities_from_sequence(sequence: str) -> tuple:\n",
    "  '''\n",
    "  This function, `probabilities_from_sequence(sequence)`, computes the probabilities associated with attributes such as blood type, height, weight, and the presence or absence of Dilated Cardiomyopathy (DCM) based on an input DNA sequence.\n",
    "\n",
    "  ### Input:\n",
    "  - `sequence`: The observed DNA sequence for which probabilities are to be computed.\n",
    "\n",
    "  ### Output:\n",
    "  The function returns dictionaries containing the probabilities for each possible state of the respective attributes:\n",
    "  - `height_probability_dic`: Probabilities for height categories (160 cm, 170 cm, 180 cm, 190 cm).\n",
    "  - `weight_probability_dic`: Probabilities for weight categories (50 kg, 65 kg, 80 kg, 95 kg).\n",
    "  - `blood_type_probability_dic`: Probabilities for blood types (O, A, B, AB).\n",
    "  - `DCM_probability_dic`: Probabilities for the presence (Y) or absence (N) of Dilated Cardiomyopathy (DCM).\n",
    "  '''\n",
    "  # Define the emission probabilities for each feature\n",
    "\n",
    "  height_emissions = [{'H': 0.2, 'L': 0.8}, {'H': 0.3, 'L': 0.7},\n",
    "                      {'H': 0.9, 'L': 0.1}, {'H': 0.8, 'L': 0.2}]\n",
    "\n",
    "  weight_emissions = [{'H': 0.3, 'L': 0.7}, {'H': 0.1, 'L': 0.9},\n",
    "                      {'H': 0.2, 'L': 0.8}, {'H': 0.7, 'L': 0.3}]\n",
    "\n",
    "  blood_type_emissions = [{'H': 0.75, 'L': 0.25}, {'H': 0.8, 'L': 0.2},\n",
    "                          {'H': 0.85, 'L': 0.15}, {'H': 0.7, 'L': 0.3}]\n",
    "\n",
    "  DCM_emissions = [{'H': 0.7, 'L': 0.3}, {'H': 0.6, 'L': 0.4}]\n",
    "\n",
    "  # Define the transition probabilities for each feature\n",
    "  height_transition_probabilities = [[0.7, 0.2, 0.05, 0.05], [0.1, 0.8, 0.05, 0.05], [0.1, 0.1, 0.7, 0.1], [0.1, 0.1, 0.1, 0.7]]\n",
    "  weight_transition_probabilities = [[0.7, 0.2, 0.05, 0.05], [0.1, 0.8, 0.05, 0.05], [0.1, 0.1, 0.7, 0.1], [0.1, 0.1, 0.1, 0.7]]\n",
    "  blood_type_transition_probabilities = [[0.7, 0.2, 0.05, 0.05], [0.1, 0.8, 0.05, 0.05], [0.1, 0.1, 0.7, 0.1], [0.1, 0.1, 0.1, 0.7]]\n",
    "  DCM_transition_probabilities = [[0.9, 0.1], [0.1, 0.9]]\n",
    "\n",
    "\n",
    "  # Define start probabilities for each state\n",
    "  height_start_probabilities = [0.1, 0.4, 0.4, 0.1]\n",
    "  weight_start_probabilities = [0.15, 0.35, 0.35, 0.15]\n",
    "  blood_type_start_probabilities = [0.1, 0.35, 0.35, 0.2]\n",
    "  DCM_start_probabilities = [0.25, 0.75]\n",
    "\n",
    "  \n",
    "  height_hmm = HMM([160, 170, 180, 190], height_emissions, height_start_probabilities, height_transition_probabilities)\n",
    "  weight_hmm = HMM([50, 65, 80, 95], weight_emissions, weight_start_probabilities, weight_transition_probabilities)\n",
    "  blood_type_hmm = HMM(['O', 'A', 'B', 'AB'], blood_type_emissions, blood_type_start_probabilities, blood_type_transition_probabilities)\n",
    "  DCM_hmm = HMM(['Y', 'M'], DCM_emissions, DCM_start_probabilities, DCM_transition_probabilities)\n",
    "  height_probability_dic = {[160, 170, 180, 190][id]: prob for id, prob in enumerate(height_hmm.forward_algorithm(sequence))}\n",
    "  weight_probability_dic = {[50, 65, 80, 95][id]: prob for id, prob in enumerate(weight_hmm.forward_algorithm(sequence))}\n",
    "  blood_type_probability_dic = {['O', 'A', 'B', 'AB'][id]: prob for id, prob in enumerate(blood_type_hmm.forward_algorithm(sequence))}\n",
    "  DCM_probability_dic = {['Y', 'N'][id]: prob for id, prob in enumerate(DCM_hmm.forward_algorithm(sequence))}\n",
    "\n",
    "\n",
    "  return height_probability_dic, weight_probability_dic, blood_type_probability_dic, DCM_probability_dic\n",
    "\n"
   ],
   "metadata": {
    "id": "MKDBSoumfmb6",
    "ExecuteTime": {
     "end_time": "2024-05-14T19:39:01.962040300Z",
     "start_time": "2024-05-14T19:39:01.904757400Z"
    }
   },
   "execution_count": 21,
   "outputs": []
  },
  {
   "cell_type": "code",
   "source": [
    "# Run this code to check your implementation\n",
    "# Example sequence of 'H' and 'L'\n",
    "sequence = \"HHLLHHHLLHLLLLHHLL\"\n",
    "\n",
    "height_probability, weight_probability, blood_type_probability, DCM_probability = probabilities_from_sequence(sequence)\n",
    "\n",
    "print(\"Probability of height given sequence:\", height_probability)\n",
    "print(\"Probability of weight given sequence:\", weight_probability)\n",
    "print(\"Probability of blood type given sequence:\", blood_type_probability)\n",
    "print(\"Probability of DCM given sequence:\", DCM_probability)"
   ],
   "metadata": {
    "colab": {
     "base_uri": "https://localhost:8080/"
    },
    "id": "vwGQ9QSAhEl5",
    "executionInfo": {
     "status": "ok",
     "timestamp": 1710794167707,
     "user_tz": -210,
     "elapsed": 354,
     "user": {
      "displayName": "Omid Daliran",
      "userId": "14293939971066168269"
     }
    },
    "outputId": "c44000d9-24c5-4968-daae-a493fb9e302f",
    "ExecuteTime": {
     "end_time": "2024-05-14T19:39:01.970070600Z",
     "start_time": "2024-05-14T19:39:01.921828700Z"
    }
   },
   "execution_count": 22,
   "outputs": [
    {
     "name": "stdout",
     "output_type": "stream",
     "text": [
      "Probability of height given sequence: {160: 0.3660593174871113, 170: 0.5760951509787053, 180: 0.015850353367627773, 190: 0.04199517816655549}\n",
      "Probability of weight given sequence: {50: 0.2845952908892868, 65: 0.4270707539024914, 80: 0.20957356322963908, 95: 0.07876039197858276}\n",
      "Probability of blood type given sequence: {'O': 0.29628284733090365, 'A': 0.3305080573190477, 'B': 0.08789883086305705, 'AB': 0.28531026448699165}\n",
      "Probability of DCM given sequence: {'Y': 0.32977581810083306, 'N': 0.670224181899167}\n"
     ]
    }
   ]
  },
  {
   "cell_type": "markdown",
   "source": [
    "# Bayesian Network for Heart Disease Probability Calculation (30 points)\n",
    "\n",
    "In this section, we introduce a Bayesian network to calculate the probability of heart disease based on various features. We assume that the relationships between features follow a specific structure, depicted in the image below.\n",
    "\n",
    "![Bayesian Net](BN.png)\n",
    "\n",
    "The Bayesian network comprises nodes representing different features, including sex, weight, height, Dilated Cardiomyopathy (DCM), blood type, and heart disease. The directed edges between nodes indicate probabilistic dependencies between them.\n",
    "\n",
    "Function Implementation:\n",
    "We will implement two functions to facilitate the calculation of heart disease probability:\n",
    "\n",
    "1. calculate_sex_probability:\n",
    "\n",
    "  This function calculates the probability of sex based on the given probabilities of weight and height.\n",
    "\n",
    "2. calculate_heart_disease_probability:\n",
    "\n",
    "  This function computes the probability of heart disease based on the probabilities of sex, DCM, and blood type."
   ],
   "metadata": {
    "id": "EglKERkiKrZv"
   }
  },
  {
   "cell_type": "code",
   "source": [
    "# The probability of sex given height and weight, the tuple is in this order: (sex, height, weight)\n",
    "P_sex_given_hw = {\n",
    "    ('M', 160, 50): 0.7, ('F', 160, 50): 0.3,\n",
    "    ('M', 160, 65): 0.2, ('F', 160, 65): 0.8,\n",
    "    ('M', 160, 80): 0.3, ('F', 160, 80): 0.7,\n",
    "    ('M', 160, 95): 0.2, ('F', 160, 95): 0.8,\n",
    "    ('M', 170, 50): 0.8, ('F', 170, 50): 0.2,\n",
    "    ('M', 170, 65): 0.75, ('F', 170, 65): 0.25,\n",
    "    ('M', 170, 80): 0.4, ('F', 170, 80): 0.6,\n",
    "    ('M', 170, 95): 0.3, ('F', 170, 95): 0.7,\n",
    "    ('M', 180, 50): 0.9, ('F', 180, 50): 0.1,\n",
    "    ('M', 180, 65): 0.7, ('F', 180, 65): 0.3,\n",
    "    ('M', 180, 80): 0.65, ('F', 180, 80): 0.35,\n",
    "    ('M', 180, 95): 0.4, ('F', 180, 95): 0.6,\n",
    "    ('M', 190, 50): 0.95, ('F', 190, 50): 0.05,\n",
    "    ('M', 190, 65): 0.8, ('F', 190, 65): 0.2,\n",
    "    ('M', 190, 80): 0.6, ('F', 190, 80): 0.4,\n",
    "    ('M', 190, 95): 0.95, ('F', 190, 95): 0.05\n",
    "}"
   ],
   "metadata": {
    "id": "wi3Rz_6eOCpD",
    "ExecuteTime": {
     "end_time": "2024-05-14T19:39:01.970070600Z",
     "start_time": "2024-05-14T19:39:01.934832100Z"
    }
   },
   "execution_count": 23,
   "outputs": []
  },
  {
   "cell_type": "code",
   "source": [
    "def calculate_sex_probability(height_prob: dict, weight_prob: dict) -> dict:\n",
    "    '''\n",
    "    This function, `calculate_sex_probability(height_prob, weight_prob)`, computes the probability of sex based on the probabilities of height and weight.\n",
    "\n",
    "    Parameters:\n",
    "    - height_prob: Dictionary containing probabilities for height categories.\n",
    "    - weight_prob: Dictionary containing probabilities for weight categories.\n",
    "\n",
    "    Returns:\n",
    "    - Dictionary containing probabilities for male (M) and female (F) sexes.\n",
    "    '''\n",
    "\n",
    "    sex_dic = {'M': 0, 'F': 1}\n",
    "\n",
    "    sex_probability = np.zeros(2)\n",
    "\n",
    "    for sex in sex_dic:\n",
    "        for height in height_prob:\n",
    "            for weight in weight_prob:\n",
    "                sex_probability[sex_dic[sex]] += P_sex_given_hw[(sex, height, weight)] * height_prob[height] * weight_prob[weight]\n",
    "\n",
    "    return {'M': sex_probability[0], 'F':sex_probability[1]}\n"
   ],
   "metadata": {
    "id": "p_sCg50LOraD",
    "ExecuteTime": {
     "end_time": "2024-05-14T19:39:01.971071200Z",
     "start_time": "2024-05-14T19:39:01.952831700Z"
    }
   },
   "execution_count": 24,
   "outputs": []
  },
  {
   "cell_type": "code",
   "source": [
    "# Run this code to test you implementation\n",
    "# Example probabilities of height\n",
    "P_height = {160: 0.1, 170: 0.3, 180: 0.4, 190: 0.2}\n",
    "# Example probabilities of weight\n",
    "P_weight = {50: 0.2, 65: 0.3, 80: 0.4, 95: 0.1}\n",
    "# Example conditional probabilities of sex given height and weight\n",
    "\n",
    "\n",
    "sex_probabilities = calculate_sex_probability(P_height, P_weight)\n",
    "print(\"Probability of sex:\", sex_probabilities)"
   ],
   "metadata": {
    "colab": {
     "base_uri": "https://localhost:8080/"
    },
    "id": "zChVjCjzOVoZ",
    "executionInfo": {
     "status": "ok",
     "timestamp": 1710794236538,
     "user_tz": -210,
     "elapsed": 389,
     "user": {
      "displayName": "Omid Daliran",
      "userId": "14293939971066168269"
     }
    },
    "outputId": "81cfd99f-d550-4799-8e05-747b1a967f84",
    "ExecuteTime": {
     "end_time": "2024-05-14T19:39:02.046641300Z",
     "start_time": "2024-05-14T19:39:01.968562200Z"
    }
   },
   "execution_count": 25,
   "outputs": [
    {
     "name": "stdout",
     "output_type": "stream",
     "text": [
      "Probability of sex: {'M': 0.6355000000000002, 'F': 0.36450000000000005}\n"
     ]
    }
   ]
  },
  {
   "cell_type": "code",
   "source": [
    "# The probability of heart disease given sex, DCM and blood type, the tuple is in this order: (heart disease, sex, blood type, DCM)\n",
    "P_heart_disease_given_parents = {\n",
    "    ('N', 'M', 'O', 'Y'): 0.3, ('Y', 'M', 'O', 'Y'): 0.7,\n",
    "    ('N', 'M', 'A', 'Y'): 0.4, ('Y', 'M', 'A', 'Y'): 0.6,\n",
    "    ('N', 'M', 'B', 'Y'): 0.5, ('Y', 'M', 'B', 'Y'): 0.5,\n",
    "    ('N', 'M', 'AB', 'Y'): 0.6, ('Y', 'M', 'AB', 'Y'): 0.4,\n",
    "    ('N', 'F', 'O', 'Y'): 0.6, ('Y', 'F', 'O', 'Y'): 0.4,\n",
    "    ('N', 'F', 'A', 'Y'): 0.3, ('Y', 'F', 'A', 'Y'): 0.7,\n",
    "    ('N', 'F', 'B', 'Y'): 0.4, ('Y', 'F', 'B', 'Y'): 0.6,\n",
    "    ('N', 'F', 'AB', 'Y'): 0.7, ('Y', 'F', 'AB', 'Y'): 0.3,\n",
    "    ('N', 'M', 'O', 'N'): 0.6, ('Y', 'M', 'O', 'N'): 0.4,\n",
    "    ('N', 'M', 'A', 'N'): 0.15, ('Y', 'M', 'A', 'N'): 0.85,\n",
    "    ('N', 'M', 'B', 'N'): 0.4, ('Y', 'M', 'B', 'N'): 0.6,\n",
    "    ('N', 'M', 'AB', 'N'): 0.7, ('Y', 'M', 'AB', 'N'): 0.3,\n",
    "    ('N', 'F', 'O', 'N'): 0.8, ('Y', 'F', 'O', 'N'): 0.2,\n",
    "    ('N', 'F', 'A', 'N'): 0.7, ('Y', 'F', 'A', 'N'): 0.3,\n",
    "    ('N', 'F', 'B', 'N'): 0.65, ('Y', 'F', 'B', 'N'): 0.35,\n",
    "    ('N', 'F', 'AB', 'N'): 0.35, ('Y', 'F', 'AB', 'N'): 0.65,\n",
    "}"
   ],
   "metadata": {
    "id": "mRooypaNPDr5",
    "ExecuteTime": {
     "end_time": "2024-05-14T19:39:02.066603700Z",
     "start_time": "2024-05-14T19:39:01.986389100Z"
    }
   },
   "execution_count": 26,
   "outputs": []
  },
  {
   "cell_type": "code",
   "source": [
    "def calculate_heart_disease_probability(DCM_prob: dict, sex_prob: dict, blood_type_prob: dict) -> dict:\n",
    "    '''\n",
    "    Function: Calculate Heart Disease Probability\n",
    "\n",
    "    This function, `calculate_heart_disease_probability(DCM_prob, sex_prob, blood_type_prob, heart_disease_given_parents)`, computes the probability of heart disease based on the probabilities of Dilated Cardiomyopathy (DCM), sex, and blood type.\n",
    "\n",
    "    Parameters:\n",
    "    - DCM_prob: Dictionary containing probabilities for DCM categories.\n",
    "    - sex_prob: Dictionary containing probabilities for sex categories.\n",
    "    - blood_type_prob: Dictionary containing probabilities for blood type categories.\n",
    "\n",
    "    Returns:\n",
    "    - Dictionary containing probabilities for the presence (Y) and absence (N) of heart disease.\n",
    "    '''\n",
    "\n",
    "    heart_disease_dic = {'Y': 0, 'N': 1}\n",
    "\n",
    "    heart_disease_probability = np.zeros(2)\n",
    "    for heart_disease in heart_disease_dic:\n",
    "        for sex in sex_prob:\n",
    "            for blood_type in blood_type_prob:\n",
    "                for DCM in DCM_prob:\n",
    "                    heart_disease_probability[heart_disease_dic[heart_disease]] += P_heart_disease_given_parents[(heart_disease, sex, blood_type, DCM)] * sex_prob[sex] * blood_type_prob[blood_type] * DCM_prob[DCM]\n",
    "        \n",
    "\n",
    "    return {'Y':heart_disease_probability[0], 'N':heart_disease_probability[1]}\n"
   ],
   "metadata": {
    "id": "yIG7zuoyPiiN",
    "ExecuteTime": {
     "end_time": "2024-05-14T19:39:02.067603300Z",
     "start_time": "2024-05-14T19:39:01.998008100Z"
    }
   },
   "execution_count": 27,
   "outputs": []
  },
  {
   "cell_type": "code",
   "source": [
    "# Run this code to test you implementation\n",
    "# Example probabilities of DCM\n",
    "P_DCM = {'Y': 0.2, 'N': 0.8}\n",
    "# Example probabilities of blood type\n",
    "P_blood_type = {'O': 0.4, 'A': 0.3, 'B': 0.2, 'AB': 0.1}\n",
    "# Example probabilities of sex\n",
    "P_sex = {'M': 0.3, 'F': 0.7}\n",
    "\n",
    "\n",
    "heart_disease_probabilities = calculate_heart_disease_probability(P_DCM, P_sex, P_blood_type)\n",
    "print(\"Probability of heart disease: \",heart_disease_probabilities)"
   ],
   "metadata": {
    "colab": {
     "base_uri": "https://localhost:8080/"
    },
    "id": "QA0XWltJPXJL",
    "executionInfo": {
     "status": "ok",
     "timestamp": 1710794311998,
     "user_tz": -210,
     "elapsed": 412,
     "user": {
      "displayName": "Omid Daliran",
      "userId": "14293939971066168269"
     }
    },
    "outputId": "3c03135f-07ed-4fb3-9205-2b3745c878e5",
    "ExecuteTime": {
     "end_time": "2024-05-14T19:39:02.068603700Z",
     "start_time": "2024-05-14T19:39:02.014263800Z"
    }
   },
   "execution_count": 28,
   "outputs": [
    {
     "name": "stdout",
     "output_type": "stream",
     "text": [
      "Probability of heart disease:  {'Y': 0.4152, 'N': 0.5848}\n"
     ]
    }
   ]
  },
  {
   "cell_type": "markdown",
   "source": [
    "# Loading DNA Sequences and Heart Disease Probability Calculation (20 points)\n",
    "\n",
    "In this part, we will load the DNA sequences from the file DNA_patients.csv and calculate the probability of heart disease for each patient. Subsequently, we will classify the patients based on their heart disease probability and save the data."
   ],
   "metadata": {
    "id": "i-T4axv2P2n3"
   }
  },
  {
   "cell_type": "code",
   "source": [
    "# Read the CSV file into a DataFrame\n",
    "df = pd.read_csv('DNA_patients.csv')\n",
    "\n",
    "df.head()"
   ],
   "metadata": {
    "colab": {
     "base_uri": "https://localhost:8080/",
     "height": 206
    },
    "id": "AdJEmpbNSuV9",
    "executionInfo": {
     "status": "ok",
     "timestamp": 1710793762398,
     "user_tz": -210,
     "elapsed": 636,
     "user": {
      "displayName": "Omid Daliran",
      "userId": "14293939971066168269"
     }
    },
    "outputId": "64eb2ab6-283a-45f1-aecd-71eaa83724ac",
    "ExecuteTime": {
     "end_time": "2024-05-14T19:39:02.070668300Z",
     "start_time": "2024-05-14T19:39:02.028316100Z"
    }
   },
   "execution_count": 29,
   "outputs": [
    {
     "data": {
      "text/plain": "   ID                                                DNA\n0   1  CTCCAATACCCCCCACAAGAACACACCCATAAAATTGCAACCCACA...\n1   2  TTGATGTAGAAGTATATTTGTTGGGTATTTGAGGTAACGTTATTAG...\n2   3  ATATAATTTAAAGTCACTGGAAAAAAACAACCTAATAAAAACCACC...\n3   4  TAAAGACAAAATTAAATTGAAGTAATGTTATGTTAAAATTTTGAAT...\n4   5  AGCGTTTGTTCGTTAGCCGTAGGCAATGACGTGATTCAGGTCTGTG...",
      "text/html": "<div>\n<style scoped>\n    .dataframe tbody tr th:only-of-type {\n        vertical-align: middle;\n    }\n\n    .dataframe tbody tr th {\n        vertical-align: top;\n    }\n\n    .dataframe thead th {\n        text-align: right;\n    }\n</style>\n<table border=\"1\" class=\"dataframe\">\n  <thead>\n    <tr style=\"text-align: right;\">\n      <th></th>\n      <th>ID</th>\n      <th>DNA</th>\n    </tr>\n  </thead>\n  <tbody>\n    <tr>\n      <th>0</th>\n      <td>1</td>\n      <td>CTCCAATACCCCCCACAAGAACACACCCATAAAATTGCAACCCACA...</td>\n    </tr>\n    <tr>\n      <th>1</th>\n      <td>2</td>\n      <td>TTGATGTAGAAGTATATTTGTTGGGTATTTGAGGTAACGTTATTAG...</td>\n    </tr>\n    <tr>\n      <th>2</th>\n      <td>3</td>\n      <td>ATATAATTTAAAGTCACTGGAAAAAAACAACCTAATAAAAACCACC...</td>\n    </tr>\n    <tr>\n      <th>3</th>\n      <td>4</td>\n      <td>TAAAGACAAAATTAAATTGAAGTAATGTTATGTTAAAATTTTGAAT...</td>\n    </tr>\n    <tr>\n      <th>4</th>\n      <td>5</td>\n      <td>AGCGTTTGTTCGTTAGCCGTAGGCAATGACGTGATTCAGGTCTGTG...</td>\n    </tr>\n  </tbody>\n</table>\n</div>"
     },
     "execution_count": 29,
     "metadata": {},
     "output_type": "execute_result"
    }
   ]
  },
  {
   "cell_type": "code",
   "source": [
    "# Extract DNA sequences and store them in a list\n",
    "DNAs = df['DNA']\n",
    "\n",
    "states = ['H', 'L']\n",
    "emissions = [{'A': 0.2, 'C': 0.3, 'G': 0.3, 'T': 0.2}, {'A': 0.3, 'C': 0.2, 'G': 0.2, 'T': 0.3}]\n",
    "start_probabilities = [0.5, 0.5]\n",
    "transition_probabilities = [[0.5, 0.5], [0.4, 0.6]]\n",
    "\n",
    "hmm = HMM(states, emissions, start_probabilities, transition_probabilities)\n",
    "\n",
    "GC_content_seqs = []\n",
    "\n",
    "for seq in DNAs:\n",
    "  path, max_probability = hmm.viterbi(seq)\n",
    "  GC_content_seqs.append(path)"
   ],
   "metadata": {
    "id": "0983HNjhlDa1",
    "ExecuteTime": {
     "end_time": "2024-05-14T19:39:02.269960200Z",
     "start_time": "2024-05-14T19:39:02.057295100Z"
    }
   },
   "execution_count": 30,
   "outputs": []
  },
  {
   "cell_type": "code",
   "source": [
    "heart_disease_classified = []\n",
    "for GC_content in GC_content_seqs:\n",
    "    height_probability, weight_probability, blood_type_probability, DCM_probability = probabilities_from_sequence(GC_content)\n",
    "    heart_disease_probability = calculate_heart_disease_probability(DCM_probability, calculate_sex_probability(height_probability, weight_probability), blood_type_probability)\n",
    "    if heart_disease_probability['Y'] > 0.5:\n",
    "        heart_disease_classified.append(1)\n",
    "    else:\n",
    "        heart_disease_classified.append(0)"
   ],
   "metadata": {
    "id": "-65oY4N5lqHk",
    "ExecuteTime": {
     "end_time": "2024-05-14T19:39:03.613614300Z",
     "start_time": "2024-05-14T19:39:02.258960500Z"
    }
   },
   "execution_count": 31,
   "outputs": []
  },
  {
   "cell_type": "code",
   "source": [
    "# Write the result to CSV\n",
    "labels = [(i+1, heart_disease_classified[i]) for i in range(len(heart_disease_classified))]\n",
    "csv_filename = \"heart_disease_result.csv\"\n",
    "with open(csv_filename, mode='w', newline='') as file:\n",
    "    writer = csv.writer(file)\n",
    "    writer.writerow(['ID', 'Label'])\n",
    "    for id, label in labels:\n",
    "        writer.writerow([id, label])"
   ],
   "metadata": {
    "id": "GU9WNiH7W6y-",
    "ExecuteTime": {
     "end_time": "2024-05-14T19:39:03.629818Z",
     "start_time": "2024-05-14T19:39:03.615449Z"
    }
   },
   "execution_count": 32,
   "outputs": []
  },
  {
   "cell_type": "markdown",
   "source": [
    "**Note: You should upload heart_disease_result.csv along side your notebook.**"
   ],
   "metadata": {
    "id": "w1nu_AHq1E4g"
   }
  }
 ]
}
